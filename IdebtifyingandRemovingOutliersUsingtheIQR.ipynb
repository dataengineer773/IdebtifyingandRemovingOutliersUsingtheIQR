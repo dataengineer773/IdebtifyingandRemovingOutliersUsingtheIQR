{
 "cells": [
  {
   "cell_type": "code",
   "execution_count": 1,
   "id": "10d20f0b-cac7-4158-8c37-eb1b2e002d79",
   "metadata": {},
   "outputs": [],
   "source": [
    "# identify outliers with interqurtile range\n",
    "from numpy.random import seed\n",
    "from numpy.random import randn\n",
    "from numpy import percentile"
   ]
  },
  {
   "cell_type": "code",
   "execution_count": 2,
   "id": "da39ade5-1383-4fc7-8ded-e2ba755670df",
   "metadata": {},
   "outputs": [],
   "source": [
    "# seed the random number generator\n",
    "seed(1)"
   ]
  },
  {
   "cell_type": "code",
   "execution_count": 3,
   "id": "d84c58ff-6e01-4084-86ff-707c93501a57",
   "metadata": {},
   "outputs": [],
   "source": [
    "# generate univariate observations\n",
    "data = 5 * randn(10000) + 50"
   ]
  },
  {
   "cell_type": "code",
   "execution_count": 4,
   "id": "4ff1db2b-4d01-42ec-8535-fa7c3f886f7d",
   "metadata": {},
   "outputs": [
    {
     "name": "stdout",
     "output_type": "stream",
     "text": [
      "PERCENTILES : 25th=46.685, 75th=53.359, IQR=6.674\n"
     ]
    }
   ],
   "source": [
    "# calculate interquartile range\n",
    "q25, q75 = percentile(data, 25), percentile(data, 75)\n",
    "iqr = q75 - q25\n",
    "print('PERCENTILES : 25th=%.3f, 75th=%.3f, IQR=%.3f' % (q25, q75, iqr))"
   ]
  },
  {
   "cell_type": "code",
   "execution_count": 5,
   "id": "28fcfce2-16f1-440c-8205-b8dba24e0250",
   "metadata": {},
   "outputs": [],
   "source": [
    "# calculate the outlier cutoff\n",
    "cut_off = iqr *1.5\n",
    "lower, upper = q25 - cut_off, q75 + cut_off"
   ]
  },
  {
   "cell_type": "code",
   "execution_count": 6,
   "id": "3cd580d2-922b-4196-9737-4f5a13866917",
   "metadata": {},
   "outputs": [
    {
     "name": "stdout",
     "output_type": "stream",
     "text": [
      "IDEBTIFIED OUTLIERS : 81\n"
     ]
    }
   ],
   "source": [
    "# identify outliers\n",
    "outliers = [x for x in data if x< lower or x > upper]\n",
    "print('IDEBTIFIED OUTLIERS : %d' % len(outliers))"
   ]
  },
  {
   "cell_type": "code",
   "execution_count": 7,
   "id": "86568264-51e5-4977-8a8c-a7e40b23cfd1",
   "metadata": {},
   "outputs": [
    {
     "name": "stdout",
     "output_type": "stream",
     "text": [
      "NON-OUTLIERS : 9919\n"
     ]
    }
   ],
   "source": [
    "# remove outliers \n",
    "outliers_removed = [ x for x in data if x>= lower and x <= upper]\n",
    "print('NON-OUTLIERS : %d' % len(outliers_removed))"
   ]
  }
 ],
 "metadata": {
  "kernelspec": {
   "display_name": "Python 3 (ipykernel)",
   "language": "python",
   "name": "python3"
  },
  "language_info": {
   "codemirror_mode": {
    "name": "ipython",
    "version": 3
   },
   "file_extension": ".py",
   "mimetype": "text/x-python",
   "name": "python",
   "nbconvert_exporter": "python",
   "pygments_lexer": "ipython3",
   "version": "3.10.12"
  }
 },
 "nbformat": 4,
 "nbformat_minor": 5
}
